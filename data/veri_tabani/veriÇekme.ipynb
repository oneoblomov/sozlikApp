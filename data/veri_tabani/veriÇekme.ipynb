{
 "cells": [
  {
   "cell_type": "code",
   "execution_count": 1,
   "metadata": {},
   "outputs": [
    {
     "name": "stdout",
     "output_type": "stream",
     "text": [
      "Konu:_hava durumu kelimeleri_\n",
      "Konu:_aile üyeleri_\n",
      "Konu:_meyveler_\n",
      "Konu:_sebzeler_\n",
      "Konu:_evcil hayvan isimleri_\n",
      "Konu:_vahşi hayvan isimleri_\n",
      "Konu:_evin bölümleri ve ev çeşitleri_\n",
      "Konu:_meslekler_\n",
      "Konu:_vücudun bölümleri_\n",
      "Konu:_hobiler_\n",
      "Konu:_duygu ve hisler_\n",
      "Konu:_seyahat kelimeleri_\n",
      "Konu:_okul araç gereç kelimeleri_\n"
     ]
    }
   ],
   "source": [
    "import pandas as pd\n",
    "from bs4 import BeautifulSoup\n",
    "import requests\n",
    "\n",
    "df= pd.DataFrame(columns=['Türkçe', 'İngilizce','Konu','Ses','okumuş','ornekler'])\n",
    "\n",
    "response = requests.get('https://evdeingilizcem.com/ingilizce-kelimeler/').content.decode('utf-8')\n",
    "\n",
    "soup = BeautifulSoup(response, 'html.parser')\n",
    "\n",
    "clas1= soup.find('div', class_='entry-content entry clearfix')\n",
    "\n",
    "tbody = clas1.find('ul')\n",
    "\n",
    "a_tags = tbody.find_all('li')\n",
    "\n",
    "for i in a_tags[1:-5]:\n",
    "    a = i.find('a')\n",
    "    konu = a.text.replace('İngilizce', '').split('seviye')[0][2:-1]\n",
    "    \n",
    "    \n",
    "    if konu == 'ülkeler, milletler ve diller' or  konu == 'günler, aylar, mevsimler':\n",
    "        continue\n",
    "    print(f'Konu:_{konu}_')\n",
    "    \n",
    "    herf = a.get('href')\n",
    "    response2 = requests.get(herf).content.decode('utf-8')\n",
    "    soup2 = BeautifulSoup(response2, 'html.parser')\n",
    "    table = soup2.find('tbody')\n",
    "\n",
    "    for ii in table.find_all('tr'):\n",
    "        tds = ii.find_all('td')\n",
    "        new_row = {'Türkçe': tds[1].text, 'İngilizce': tds[0].text, 'Konu': konu}\n",
    "        df = pd.concat([df, pd.DataFrame(new_row, index=[0])], ignore_index=True)"
   ]
  },
  {
   "cell_type": "code",
   "execution_count": 3,
   "metadata": {},
   "outputs": [
    {
     "name": "stdout",
     "output_type": "stream",
     "text": [
      "0 1 2 4 5 6 7 8 12 19 23 25 30 32 50 55 56 60 64 65 66 68 70 73 76 78 84 87 88 91 96 103 110 111 113 115 116 118 119 120 128 133 134 135 137 138 140 141 142 143 145 150 152 154 156 157 162 163 165 168 174 178 179 180 182 193 197 200 204 205 207 208 210 212 214 217 224 225 229 231 237 240 242 250 251 253 255 256 257 259 261 262 263 265 269 270 272 274 275 276 277 279 282 284 285 286 287 288 289 290 293 301 310 316 317 319 320 321 322 323 324 325 327 329 330 332 334 337 341 344 345 346 347 348 349 350 356 357 361 364 367 368 369 376 378 380 389 391 394 395 396 406 409 410 411 415 417 427 428 431 432 433 435 441 445 448 452 453 454 459 467 468 470 472 477 478 480 481 486 487 488 489 490 493 497 498 502 505 507 508 512 513 515 521 523 524 526 527 530 531 534 535 537 538 540 541 542 545 546 549 552 554 558 560 565 568 572 576 578 582 583 586 591 594 597 598 599 601 604 606 609 610 612 618 619 624 627 632 634 636 640 643 646 649 653 654 655 656 661 662 664 666 667 669 670 672 "
     ]
    }
   ],
   "source": [
    "import json\n",
    "import requests\n",
    "import pandas as pd\n",
    "\n",
    "# Assuming df is your DataFrame and it's already defined somewhere above this script\n",
    "for index in df.index:\n",
    "    word = df.loc[index, 'İngilizce']\n",
    "    try:\n",
    "        response = requests.get(f\"https://api.dictionaryapi.dev/api/v2/entries/en/{word}\")\n",
    "        response.raise_for_status()\n",
    "        json_data = response.json()\n",
    "    except (requests.RequestException, json.JSONDecodeError):\n",
    "        df.drop(index, inplace=True)\n",
    "        continue\n",
    "\n",
    "    try:\n",
    "        phonetics = json_data[0]['phonetics']\n",
    "        if phonetics and phonetics[0]['audio']:\n",
    "            df.at[index, 'Ses'] = phonetics[0]['audio']\n",
    "            df.at[index, 'okumuş'] = phonetics[0]['text']\n",
    "            \n",
    "            meanings = json_data[0]['meanings']\n",
    "            df.at[index, 'ornekler'] = json.dumps(meanings)  # Storing meanings as a JSON string\n",
    "            \n",
    "            print(index, end=' ')\n",
    "        else:\n",
    "            df.drop(index, inplace=True)\n",
    "    except (IndexError, KeyError, TypeError):\n",
    "        df.drop(index, inplace=True)\n"
   ]
  },
  {
   "cell_type": "code",
   "execution_count": 4,
   "metadata": {},
   "outputs": [],
   "source": [
    "import mysql.connector\n",
    "\n",
    "mydb = mysql.connector.connect(\n",
    "    host=\"localhost\",\n",
    "    user=\"root\",\n",
    "    password=\"Muha.kaplan63\",\n",
    "    database=\"proje\"\n",
    "\n",
    ")\n",
    "mycursor = mydb.cursor()"
   ]
  },
  {
   "cell_type": "code",
   "execution_count": 5,
   "metadata": {},
   "outputs": [],
   "source": [
    "mycursor.execute(\"\"\"CREATE TABLE kelimeler (\n",
    "    id INT AUTO_INCREMENT PRIMARY KEY,\n",
    "    Türkçe VARCHAR(255),\n",
    "    İngilizce VARCHAR(255),\n",
    "    Konu VARCHAR(255),\n",
    "    Ses VARCHAR(255),\n",
    "    okumuş VARCHAR(100),\n",
    "    ornekler text)\"\"\")"
   ]
  },
  {
   "cell_type": "code",
   "execution_count": 6,
   "metadata": {},
   "outputs": [],
   "source": [
    "import json\n",
    "for i in df.index:\n",
    "    if len(df.loc[i]['ornekler'])>5000:\n",
    "        continue\n",
    "    sql = \"INSERT INTO kelimeler (turkce, ing, konu, ses, okumuş, ornekler) VALUES (%s, %s, %s, %s, %s, %s)\"\n",
    "    val = (df.loc[i]['Türkçe'], df.loc[i]['İngilizce'], df.loc[i]['Konu'], df.loc[i]['Ses'], df.loc[i]['okumuş'], json.dumps(df.loc[i]['ornekler']))\n",
    "    mycursor.execute(sql, val)\n",
    "    mydb.commit()"
   ]
  },
  {
   "cell_type": "code",
   "execution_count": null,
   "metadata": {},
   "outputs": [],
   "source": []
  }
 ],
 "metadata": {
  "kernelspec": {
   "display_name": "Python 3",
   "language": "python",
   "name": "python3"
  },
  "language_info": {
   "codemirror_mode": {
    "name": "ipython",
    "version": 3
   },
   "file_extension": ".py",
   "mimetype": "text/x-python",
   "name": "python",
   "nbconvert_exporter": "python",
   "pygments_lexer": "ipython3",
   "version": "3.12.3"
  }
 },
 "nbformat": 4,
 "nbformat_minor": 2
}
